{
 "cells": [
  {
   "attachments": {
    "e0cb65ac-d227-4538-8235-a7d27d7f7812.png": {
     "image/png": "[encoded data removed]"
    }
   },
   "cell_type": "markdown",
   "id": "e2344a4c-fd7d-4c29-9c86-ca86c0b58263",
   "metadata": {},
   "source": [
    "![download.png](attachment:e0cb65ac-d227-4538-8235-a7d27d7f7812.png)\n",
    "\n",
    "# Homework Assignment 01: Sales Data Analysis\n",
    "Created by Golnaz Sahebi, Organized by Gemini, Autumn 2025\n",
    "\n",
    "### Objective:\n",
    "In this classwork, you will analyze a small dataset of sales records. You will practice:\n",
    "- Creating a DataFrame from a Python dictionary.\n",
    "- Calculating new columns based on existing data.\n",
    "- Filtering and sorting data to find specific information.\n",
    "- Grouping data to perform aggregate calculations.\n",
    "\n",
    "### Evaluation: \n",
    "You can earn at most **10 points** from this homework and you need to do self-assessment on ITS.\n",
    "\n",
    "### Instructions:\n",
    "You are provided with a dataset of product sales with the following columns:\n",
    "- **Product_ID:** A unique identifier for the product.\n",
    "- **Category:** The category the product belongs to.\n",
    "- **Unit_Price:** The price of a single unit of the product.\n",
    "- **Units_Sold:** The number of units sold.\n",
    "- **Region:** The region where the sale occurred.\n",
    "\n",
    "---\n",
    "#### 1. Create the DataFrame (1 point)\n",
    "Use the provided sales data to create a Pandas DataFrame.\n",
    "- **Hint:** Create a dictionary where keys are the column names and values are lists of the data.\n",
    "\n"
   ]
  },
  {
   "cell_type": "code",
   "execution_count": 1,
   "id": "73fd68e1-d14f-4233-b45f-ea25e5484d22",
   "metadata": {},
   "outputs": [
    {
     "name": "stdout",
     "output_type": "stream",
     "text": [
      "  Product_ID     Category  Unit_Price  Units_Sold Region\n",
      "0       PR01  Electronics         500          20  North\n",
      "1       PR02     Clothing          40         150  South\n",
      "2       PR03  Electronics        1200          10  North\n",
      "3       PR04   Home Goods         150          80   West\n",
      "4       PR05     Clothing          55         120  South\n",
      "5       PR06   Home Goods         200          60   West\n"
     ]
    }
   ],
   "source": [
    "import pandas as pd\n",
    "\n",
    "# Sales data in a dictionary\n",
    "\n",
    "data = {\n",
    "'Product_ID': ['PR01', 'PR02', 'PR03', 'PR04', 'PR05', 'PR06'],\n",
    "'Category': ['Electronics', 'Clothing', 'Electronics', 'Home Goods', 'Clothing', 'Home Goods'],\n",
    "'Unit_Price': [500, 40, 1200, 150, 55, 200],\n",
    "'Units_Sold': [20, 150, 10, 80, 120, 60],\n",
    "'Region': ['North', 'South', 'North', 'West', 'South', 'West']\n",
    "}\n",
    "\n",
    "\n",
    "# Creating the DataFrame\n",
    "\n",
    "df = pd.DataFrame(data)\n",
    "\n",
    "\n",
    "# Displaying the DataFrame to verify its structure\n",
    "\n",
    "print(df)"
   ]
  },
  {
   "cell_type": "markdown",
   "id": "fefc1bb0-31cd-4aad-b1ee-61992dba63f2",
   "metadata": {},
   "source": [
    "#### 2. Calculate Total Revenue (1 point)\n",
    "Create a new column named `Total_Revenue` which is the `Unit_Price` multiplied by the `Units_Sold`.\n"
   ]
  },
  {
   "cell_type": "code",
   "execution_count": 2,
   "id": "56a00ec6-c4fb-4d7e-82f1-c296c2a0d91d",
   "metadata": {},
   "outputs": [
    {
     "name": "stdout",
     "output_type": "stream",
     "text": [
      "  Product_ID     Category  Unit_Price  Units_Sold Region  Total_Revenue\n",
      "0       PR01  Electronics         500          20  North          10000\n",
      "1       PR02     Clothing          40         150  South           6000\n",
      "2       PR03  Electronics        1200          10  North          12000\n",
      "3       PR04   Home Goods         150          80   West          12000\n",
      "4       PR05     Clothing          55         120  South           6600\n",
      "5       PR06   Home Goods         200          60   West          12000\n"
     ]
    }
   ],
   "source": [
    "#Creating new column and calculating the Total Revenue\n",
    "\n",
    "df['Total_Revenue'] = (df['Unit_Price'] * df['Units_Sold'])\n",
    "\n",
    "#Printing the new DataFrame with the new column\n",
    "\n",
    "print(df)"
   ]
  },
  {
   "cell_type": "markdown",
   "id": "dda820fc-4461-4efb-8b8d-8f73fa755063",
   "metadata": {},
   "source": [
    "### 3. Filter for High-Revenue Products (1 point)\n",
    "Find all products that generated a `Total_Revenue` of more than **$10,000** and display their records."
   ]
  },
  {
   "cell_type": "code",
   "execution_count": 3,
   "id": "929dcc01-44bd-476c-8a79-4e56ce189acb",
   "metadata": {},
   "outputs": [
    {
     "name": "stdout",
     "output_type": "stream",
     "text": [
      "  Product_ID     Category  Unit_Price  Units_Sold Region  Total_Revenue\n",
      "2       PR03  Electronics        1200          10  North          12000\n",
      "3       PR04   Home Goods         150          80   West          12000\n",
      "5       PR06   Home Goods         200          60   West          12000\n"
     ]
    }
   ],
   "source": [
    "#Filtering all products with generated Total_Revenue of more than $10,000\n",
    "\n",
    "high_revenue_products = df[df['Total_Revenue'] > 10000]\n",
    "\n",
    "#Printing the filtered DataFrame\n",
    "\n",
    "print(high_revenue_products)"
   ]
  },
  {
   "cell_type": "markdown",
   "id": "2eb453dc-cd92-4348-8020-1a009918b84c",
   "metadata": {},
   "source": [
    "#### 4. Find the Average Unit Price (1 point)\n",
    "Calculate and display the **average** `Unit_Price` of all **products**."
   ]
  },
  {
   "cell_type": "code",
   "execution_count": 4,
   "id": "41b1a242-9191-4783-a45a-231c88b1a637",
   "metadata": {},
   "outputs": [
    {
     "name": "stdout",
     "output_type": "stream",
     "text": [
      "357.5\n"
     ]
    }
   ],
   "source": [
    "#Calculating the average Unit Price for all products\n",
    "\n",
    "average_unit_price = df['Unit_Price'].mean()\n",
    "\n",
    "#Printing the average Unit Price\n",
    "\n",
    "print(average_unit_price)"
   ]
  },
  {
   "cell_type": "markdown",
   "id": "55284ba4-32cb-4e0e-8255-3f212ee28866",
   "metadata": {},
   "source": [
    "#### 5. Sort Products by Units Sold (1 point)\n",
    "Sort the DataFrame in **descending order** based on the number of `Units_Sold`."
   ]
  },
  {
   "cell_type": "code",
   "execution_count": 5,
   "id": "9cc4027c-958b-40a5-b070-78a8de0bb61c",
   "metadata": {},
   "outputs": [
    {
     "name": "stdout",
     "output_type": "stream",
     "text": [
      "  Product_ID     Category  Unit_Price  Units_Sold Region  Total_Revenue\n",
      "1       PR02     Clothing          40         150  South           6000\n",
      "4       PR05     Clothing          55         120  South           6600\n",
      "3       PR04   Home Goods         150          80   West          12000\n",
      "5       PR06   Home Goods         200          60   West          12000\n",
      "0       PR01  Electronics         500          20  North          10000\n",
      "2       PR03  Electronics        1200          10  North          12000\n"
     ]
    }
   ],
   "source": [
    "#Sorting the DataFreame in descending order according to the number of Units_Sold\n",
    "\n",
    "sorted_by_units_sold = df.sort_values(by = 'Units_Sold', ascending = False)\n",
    "\n",
    "#Printing the sorted DataFrame\n",
    "\n",
    "print(sorted_by_units_sold)"
   ]
  },
  {
   "cell_type": "markdown",
   "id": "b755a5a5-e69a-4d80-b715-06301bcbcfee",
   "metadata": {},
   "source": [
    "#### 6. Group by Category and Calculate Total Revenue (1 point)\n",
    "Group the products by `Category` and calculate the total revenue for each category."
   ]
  },
  {
   "cell_type": "code",
   "execution_count": 6,
   "id": "1cd07756-b1fd-4602-856e-caac55d617d5",
   "metadata": {},
   "outputs": [
    {
     "name": "stdout",
     "output_type": "stream",
     "text": [
      "Category\n",
      "Clothing       12600\n",
      "Electronics    22000\n",
      "Home Goods     24000\n",
      "Name: Total_Revenue, dtype: int64\n"
     ]
    }
   ],
   "source": [
    "#Filtering products by Category and then calculating the total revenue for each\n",
    "\n",
    "category_revenue = df.groupby('Category')['Total_Revenue'].sum()\n",
    "\n",
    "#Printing\n",
    "\n",
    "print(category_revenue)"
   ]
  },
  {
   "cell_type": "markdown",
   "id": "aaf8fb3c-c75d-4fcc-887d-9bf194355a6b",
   "metadata": {},
   "source": [
    "#### 7. Find the Best-Selling Product in the 'South' Region (1 point)\n",
    "First, filter for sales in the 'South' region. Then, find the product with the highest `Units_Sold` within that region."
   ]
  },
  {
   "cell_type": "code",
   "execution_count": 7,
   "id": "09df113a-9fa7-4152-a103-b6a403b01c57",
   "metadata": {},
   "outputs": [
    {
     "name": "stdout",
     "output_type": "stream",
     "text": [
      "150\n"
     ]
    }
   ],
   "source": [
    "#Filtering sales from South and finding the product with the highest Units Sold\n",
    "\n",
    "south_df = df[df['Region'] == 'South']\n",
    "south_products = south_df['Units_Sold'].max()\n",
    "\n",
    "#Printing\n",
    "\n",
    "print(south_products)"
   ]
  },
  {
   "cell_type": "markdown",
   "id": "25d388bd-03fd-4915-ba15-08f5ae1870db",
   "metadata": {},
   "source": [
    "#### 8. Add a Column 'Discount_Eligible' (Without apply() or lambda) (1 point)\n",
    "Add a new column **'Discount_Eligible'**. The eligibility is determined as follows:\n",
    "\n",
    "- If a product is in the **'Electronics'** category, it is **'Not Eligible'**.\n",
    "- Otherwise, it is **'Eligible'**.\n",
    "- **Hint:** Initialize the column with a default value ('Eligible') and then use `.loc[]` to update the rows for the 'Electronics' category.\n",
    "\n",
    "\n"
   ]
  },
  {
   "cell_type": "code",
   "execution_count": 8,
   "id": "d65128a4-803e-49f2-8ec9-131df54de42f",
   "metadata": {},
   "outputs": [
    {
     "name": "stdout",
     "output_type": "stream",
     "text": [
      "  Product_ID     Category  Unit_Price  Units_Sold Region  Total_Revenue  \\\n",
      "0       PR01  Electronics         500          20  North          10000   \n",
      "1       PR02     Clothing          40         150  South           6000   \n",
      "2       PR03  Electronics        1200          10  North          12000   \n",
      "3       PR04   Home Goods         150          80   West          12000   \n",
      "4       PR05     Clothing          55         120  South           6600   \n",
      "5       PR06   Home Goods         200          60   West          12000   \n",
      "\n",
      "  Discount_Eligible  \n",
      "0      Not Eligible  \n",
      "1          Eligible  \n",
      "2      Not Eligible  \n",
      "3          Eligible  \n",
      "4          Eligible  \n",
      "5          Eligible  \n"
     ]
    }
   ],
   "source": [
    "# Adding new column with default value \"Eligible\"\n",
    "\n",
    "df['Discount_Eligible'] = \"Eligible\"\n",
    "\n",
    "# Updating rows where Category == 'Electronics' to \"Not Eligible\"\n",
    "\n",
    "df.loc[df['Category'] == 'Electronics', 'Discount_Eligible'] = 'Not Eligible'\n",
    "\n",
    "# Printing\n",
    "\n",
    "print(df)"
   ]
  },
  {
   "cell_type": "markdown",
   "id": "e54badd7-282b-4c88-947a-8c5d09b5935d",
   "metadata": {},
   "source": [
    "#### 9. Add a Column 'Discount_Eligible' (Using apply() and lambda) (2 points)\n",
    "Add a new column **'Discount_Eligible'** using a more advanced method. The logic remains the same:\n",
    "\n",
    "- If a product is in the **'Electronics'** category, it is **'Not Eligible'**.\n",
    "- Otherwise, it is **'Eligigble'**.\n"
   ]
  },
  {
   "cell_type": "code",
   "execution_count": 9,
   "id": "92032f7c-e312-4281-ac53-06e34f59c568",
   "metadata": {},
   "outputs": [
    {
     "name": "stdout",
     "output_type": "stream",
     "text": [
      "  Product_ID     Category  Unit_Price  Units_Sold Region  Total_Revenue  \\\n",
      "0       PR01  Electronics         500          20  North          10000   \n",
      "1       PR02     Clothing          40         150  South           6000   \n",
      "2       PR03  Electronics        1200          10  North          12000   \n",
      "3       PR04   Home Goods         150          80   West          12000   \n",
      "4       PR05     Clothing          55         120  South           6600   \n",
      "5       PR06   Home Goods         200          60   West          12000   \n",
      "\n",
      "  Discount_Eligible Discount_Eligible2  \n",
      "0      Not Eligible       Not Eligible  \n",
      "1          Eligible           Eligible  \n",
      "2      Not Eligible       Not Eligible  \n",
      "3          Eligible           Eligible  \n",
      "4          Eligible           Eligible  \n",
      "5          Eligible           Eligible  \n"
     ]
    }
   ],
   "source": [
    "# Adding a new column using apply() and lambda\n",
    "\n",
    "df['Discount_Eligible2'] = df['Category'].apply(lambda x: 'Not Eligible' if x == 'Electronics' else 'Eligible')\n",
    "\n",
    "# Printing\n",
    "\n",
    "print(df)"
   ]
  },
  {
   "cell_type": "markdown",
   "id": "02d9eef4-8fc8-44e3-9d4c-c2fd0ad4a45f",
   "metadata": {},
   "source": [
    "### Good Luck!"
   ]
  }
 ],
 "metadata": {
  "kernelspec": {
   "display_name": "Python [conda env:base] *",
   "language": "python",
   "name": "conda-base-py"
  },
  "language_info": {
   "codemirror_mode": {
    "name": "ipython",
    "version": 3
   },
   "file_extension": ".py",
   "mimetype": "text/x-python",
   "name": "python",
   "nbconvert_exporter": "python",
   "pygments_lexer": "ipython3",
   "version": "3.12.3"
  }
 },
 "nbformat": 4,
 "nbformat_minor": 5
}
