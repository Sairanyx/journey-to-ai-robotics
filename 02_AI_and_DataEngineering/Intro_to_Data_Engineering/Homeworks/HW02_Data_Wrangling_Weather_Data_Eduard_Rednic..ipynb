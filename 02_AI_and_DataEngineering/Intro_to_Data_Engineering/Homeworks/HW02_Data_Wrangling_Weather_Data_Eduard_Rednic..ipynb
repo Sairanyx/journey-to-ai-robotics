{
 "cells": [
  {
   "attachments": {
    "20ec17f5-baa2-479f-8bba-7f40873fdd23.png": {
     "image/png": "[encoded data removed]"
    }
   },
   "cell_type": "markdown",
   "id": "d5b1fb1e-8082-4f67-aa5e-b524df5a9571",
   "metadata": {},
   "source": [
    "![download.png](attachment:20ec17f5-baa2-479f-8bba-7f40873fdd23.png)           Created by Golnaz Sahebi, Introduction to Data Engineering, Autumn 2025\n",
    "\n",
    "---\n",
    "\n",
    "# Homework 02: Data Wrangling with Weather Data\n",
    "\n",
    "**Data wrangling**, also known as data munging, is the process of cleaning, transforming, and organizing raw data into a structured and usable format for analysis. It involves tasks such as handling missing values, correcting data types, filtering, merging, and creating new features to prepare the data for further analysis or machine learning models. The goal of data wrangling is to make the data more consistent, accurate, and ready for meaningful insights.\n",
    "\n",
    "This is an exercise for data wrangling using a fake generated weather dataset similar to a real weather dataset from Kaggle, which is bigger. This data is relatively simple and contains missing values that can be cleaned and transformed for analysis.\n",
    "\n",
    "**Total points** you can earn from this assignment: **10**\n",
    "\n",
    "## Problem Statement:\n",
    "\n",
    "You are provided with weather data collected over multiple years. Your task is to clean, transform, and analyze this data, focusing on handling missing values and creating new features for analysis.\n",
    "\n",
    "## Objectives:\n",
    "This exercise provides a good mix of data wrangling tasks, including handling missing values, creating new features, and performing basic analysis on weather data.\n",
    "\n",
    "\n",
    "#### - Download the Dataset:\n",
    "- You can use the **'simulated_weather_data.csv'** file which is attached to this exercise file on ITS.\n",
    "\n",
    "- Download the dataset file from your ItsLearning where this jupyter notebook is available.\n",
    "#### - Specify the File Path in Your Code:\n",
    "\n",
    "- Place the downloaded file in your working directory or specify the full path where the file is stored.\n",
    "\n",
    "**Notes:** \n",
    "- **Relative Path:** If you place simulated_weather_data.csv in the same directory as your script or Jupyter Notebook, you can simply use 'US_Daily_Weather.csv'.\n",
    "\n",
    "- **Absolute Path:** If the file is located elsewhere on your system, provide the full path, such as 'C:/Users/YourUsername/Downloads/simulated_weather_data.csv' for Windows or '/home/yourusername/Downloads/simulated_weather_data.csv' for Unix-based systems (Linux/MacOS).\n",
    "\n",
    "By specifying the correct path, your code will be able to locate and load the dataset file properly.\n",
    "\n",
    "\n",
    "\n",
    "\n",
    "## Assignment's Steps:\n",
    "### 1. Load the Dataset (1 point)\n",
    "- Load the weather dataset into a Pandas DataFrame.\n",
    "\n"
   ]
  },
  {
   "cell_type": "code",
   "execution_count": 93,
   "id": "a4674ab9",
   "metadata": {},
   "outputs": [
    {
     "data": {
      "text/html": [
       "<div>\n",
       "<style scoped>\n",
       "    .dataframe tbody tr th:only-of-type {\n",
       "        vertical-align: middle;\n",
       "    }\n",
       "\n",
       "    .dataframe tbody tr th {\n",
       "        vertical-align: top;\n",
       "    }\n",
       "\n",
       "    .dataframe thead th {\n",
       "        text-align: right;\n",
       "    }\n",
       "</style>\n",
       "<table border=\"1\" class=\"dataframe\">\n",
       "  <thead>\n",
       "    <tr style=\"text-align: right;\">\n",
       "      <th></th>\n",
       "      <th>Date</th>\n",
       "      <th>Temperature (C)</th>\n",
       "      <th>Humidity (%)</th>\n",
       "      <th>Precipitation (mm)</th>\n",
       "      <th>Wind Speed (km/h)</th>\n",
       "      <th>Weather Condition</th>\n",
       "      <th>Visibility (km)</th>\n",
       "    </tr>\n",
       "  </thead>\n",
       "  <tbody>\n",
       "    <tr>\n",
       "      <th>0</th>\n",
       "      <td>2023-01-01</td>\n",
       "      <td>29.1</td>\n",
       "      <td>89.4</td>\n",
       "      <td>14.2</td>\n",
       "      <td>59.5</td>\n",
       "      <td>Snowy</td>\n",
       "      <td>14.8</td>\n",
       "    </tr>\n",
       "    <tr>\n",
       "      <th>1</th>\n",
       "      <td>2023-01-02</td>\n",
       "      <td>1.7</td>\n",
       "      <td>73.9</td>\n",
       "      <td>5.8</td>\n",
       "      <td>68.7</td>\n",
       "      <td>Rainy</td>\n",
       "      <td>14.2</td>\n",
       "    </tr>\n",
       "    <tr>\n",
       "      <th>2</th>\n",
       "      <td>2023-01-03</td>\n",
       "      <td>-0.8</td>\n",
       "      <td>67.6</td>\n",
       "      <td>15.7</td>\n",
       "      <td>92.0</td>\n",
       "      <td>Snowy</td>\n",
       "      <td>17.2</td>\n",
       "    </tr>\n",
       "    <tr>\n",
       "      <th>3</th>\n",
       "      <td>2023-01-04</td>\n",
       "      <td>NaN</td>\n",
       "      <td>42.2</td>\n",
       "      <td>19.1</td>\n",
       "      <td>36.1</td>\n",
       "      <td>Sunny</td>\n",
       "      <td>10.6</td>\n",
       "    </tr>\n",
       "    <tr>\n",
       "      <th>4</th>\n",
       "      <td>2023-01-05</td>\n",
       "      <td>16.5</td>\n",
       "      <td>62.6</td>\n",
       "      <td>6.6</td>\n",
       "      <td>57.8</td>\n",
       "      <td>Rainy</td>\n",
       "      <td>8.7</td>\n",
       "    </tr>\n",
       "  </tbody>\n",
       "</table>\n",
       "</div>"
      ],
      "text/plain": [
       "         Date  Temperature (C)  Humidity (%)  Precipitation (mm)  \\\n",
       "0  2023-01-01             29.1          89.4                14.2   \n",
       "1  2023-01-02              1.7          73.9                 5.8   \n",
       "2  2023-01-03             -0.8          67.6                15.7   \n",
       "3  2023-01-04              NaN          42.2                19.1   \n",
       "4  2023-01-05             16.5          62.6                 6.6   \n",
       "\n",
       "   Wind Speed (km/h) Weather Condition  Visibility (km)  \n",
       "0               59.5             Snowy             14.8  \n",
       "1               68.7             Rainy             14.2  \n",
       "2               92.0             Snowy             17.2  \n",
       "3               36.1             Sunny             10.6  \n",
       "4               57.8             Rainy              8.7  "
      ]
     },
     "execution_count": 93,
     "metadata": {},
     "output_type": "execute_result"
    }
   ],
   "source": [
    "# Import necessary libraries\n",
    "\n",
    "import pandas as pd\n",
    "\n",
    "# Load the dataset\n",
    "\n",
    "df = pd.read_csv('simulated_weather_data.csv')\n",
    "\n",
    "# Display the first few rows of the dataset\n",
    "\n",
    "df.head()"
   ]
  },
  {
   "cell_type": "markdown",
   "id": "15fa1900",
   "metadata": {},
   "source": [
    "### 2. Inspect the Data (1 point)\n",
    "- Display the first few rows of the dataset.\n",
    "- Check for missing values and data types."
   ]
  },
  {
   "cell_type": "code",
   "execution_count": 94,
   "id": "89809518",
   "metadata": {},
   "outputs": [
    {
     "data": {
      "text/plain": [
       "Date                  0\n",
       "Temperature (C)       2\n",
       "Humidity (%)          1\n",
       "Precipitation (mm)    4\n",
       "Wind Speed (km/h)     0\n",
       "Weather Condition     0\n",
       "Visibility (km)       0\n",
       "dtype: int64"
      ]
     },
     "execution_count": 94,
     "metadata": {},
     "output_type": "execute_result"
    }
   ],
   "source": [
    "# Check for missing values\n",
    "df.isnull().sum()"
   ]
  },
  {
   "cell_type": "code",
   "execution_count": 95,
   "id": "554a8016-8f3e-4289-8d6e-28021c9d266c",
   "metadata": {},
   "outputs": [
    {
     "name": "stdout",
     "output_type": "stream",
     "text": [
      "<class 'pandas.core.frame.DataFrame'>\n",
      "RangeIndex: 365 entries, 0 to 364\n",
      "Data columns (total 7 columns):\n",
      " #   Column              Non-Null Count  Dtype  \n",
      "---  ------              --------------  -----  \n",
      " 0   Date                365 non-null    object \n",
      " 1   Temperature (C)     363 non-null    float64\n",
      " 2   Humidity (%)        364 non-null    float64\n",
      " 3   Precipitation (mm)  361 non-null    float64\n",
      " 4   Wind Speed (km/h)   365 non-null    float64\n",
      " 5   Weather Condition   365 non-null    object \n",
      " 6   Visibility (km)     365 non-null    float64\n",
      "dtypes: float64(5), object(2)\n",
      "memory usage: 20.1+ KB\n"
     ]
    }
   ],
   "source": [
    "# Check the data types of the columns\n",
    "df.info()"
   ]
  },
  {
   "cell_type": "markdown",
   "id": "84dfa640",
   "metadata": {},
   "source": [
    "### 3. Handle Missing Data (2 points)\n",
    "- Impute missing values for temperature and other numerical columns (e.g., precipitation, humidity) using the median.\n",
    "- Drop rows with missing data if more than a certain threshold of values are missing."
   ]
  },
  {
   "cell_type": "code",
   "execution_count": 96,
   "id": "6f0769cd",
   "metadata": {},
   "outputs": [
    {
     "name": "stdout",
     "output_type": "stream",
     "text": [
      "Date                  0\n",
      "Temperature (C)       0\n",
      "Humidity (%)          0\n",
      "Precipitation (mm)    0\n",
      "Wind Speed (km/h)     0\n",
      "Weather Condition     0\n",
      "Visibility (km)       0\n",
      "dtype: int64\n"
     ]
    }
   ],
   "source": [
    "# Fill missing values in numerical columns with the median value\n",
    "\n",
    "df = df.fillna(df.median(numeric_only=True))\n",
    "\n",
    "# Drop rows where more than half of the columns are missing \n",
    "# ! This was not reallt needed as after we fill ALL the null values with median, of course all will be filled so no need to the next question as it\n",
    "# doesnt change anything\n",
    "\n",
    "df = df.dropna(thresh = len(df.columns) / 2)\n",
    "\n",
    "# Check again for missing values\n",
    "\n",
    "print(df.isnull().sum())"
   ]
  },
  {
   "cell_type": "code",
   "execution_count": 97,
   "id": "0e49af40-2388-47c2-b35f-9d0366accef0",
   "metadata": {},
   "outputs": [
    {
     "data": {
      "text/plain": [
       "Date                  0\n",
       "Temperature (C)       0\n",
       "Humidity (%)          0\n",
       "Precipitation (mm)    0\n",
       "Wind Speed (km/h)     0\n",
       "Weather Condition     0\n",
       "Visibility (km)       0\n",
       "dtype: int64"
      ]
     },
     "execution_count": 97,
     "metadata": {},
     "output_type": "execute_result"
    }
   ],
   "source": [
    "df.isna().sum()"
   ]
  },
  {
   "cell_type": "markdown",
   "id": "92695186",
   "metadata": {},
   "source": [
    "### 4. Data Transformation (2 points)\n",
    "- Create a new column called Temp_Celsius that converts the temperature from Fahrenheit to Celsius.\n",
    "- Create another column called IsDryDay to flag whether the day had no precipitation (i.e., precipitation == 0)."
   ]
  },
  {
   "cell_type": "code",
   "execution_count": 98,
   "id": "458f0200",
   "metadata": {},
   "outputs": [
    {
     "data": {
      "text/html": [
       "<div>\n",
       "<style scoped>\n",
       "    .dataframe tbody tr th:only-of-type {\n",
       "        vertical-align: middle;\n",
       "    }\n",
       "\n",
       "    .dataframe tbody tr th {\n",
       "        vertical-align: top;\n",
       "    }\n",
       "\n",
       "    .dataframe thead th {\n",
       "        text-align: right;\n",
       "    }\n",
       "</style>\n",
       "<table border=\"1\" class=\"dataframe\">\n",
       "  <thead>\n",
       "    <tr style=\"text-align: right;\">\n",
       "      <th></th>\n",
       "      <th>Temp_Fahrenheit</th>\n",
       "      <th>IsDryDay</th>\n",
       "    </tr>\n",
       "  </thead>\n",
       "  <tbody>\n",
       "    <tr>\n",
       "      <th>0</th>\n",
       "      <td>84.38</td>\n",
       "      <td>False</td>\n",
       "    </tr>\n",
       "    <tr>\n",
       "      <th>1</th>\n",
       "      <td>35.06</td>\n",
       "      <td>False</td>\n",
       "    </tr>\n",
       "    <tr>\n",
       "      <th>2</th>\n",
       "      <td>30.56</td>\n",
       "      <td>False</td>\n",
       "    </tr>\n",
       "    <tr>\n",
       "      <th>3</th>\n",
       "      <td>56.12</td>\n",
       "      <td>False</td>\n",
       "    </tr>\n",
       "    <tr>\n",
       "      <th>4</th>\n",
       "      <td>61.70</td>\n",
       "      <td>False</td>\n",
       "    </tr>\n",
       "    <tr>\n",
       "      <th>...</th>\n",
       "      <td>...</td>\n",
       "      <td>...</td>\n",
       "    </tr>\n",
       "    <tr>\n",
       "      <th>360</th>\n",
       "      <td>61.88</td>\n",
       "      <td>False</td>\n",
       "    </tr>\n",
       "    <tr>\n",
       "      <th>361</th>\n",
       "      <td>65.48</td>\n",
       "      <td>False</td>\n",
       "    </tr>\n",
       "    <tr>\n",
       "      <th>362</th>\n",
       "      <td>91.94</td>\n",
       "      <td>False</td>\n",
       "    </tr>\n",
       "    <tr>\n",
       "      <th>363</th>\n",
       "      <td>53.06</td>\n",
       "      <td>False</td>\n",
       "    </tr>\n",
       "    <tr>\n",
       "      <th>364</th>\n",
       "      <td>80.96</td>\n",
       "      <td>False</td>\n",
       "    </tr>\n",
       "  </tbody>\n",
       "</table>\n",
       "<p>365 rows × 2 columns</p>\n",
       "</div>"
      ],
      "text/plain": [
       "     Temp_Fahrenheit  IsDryDay\n",
       "0              84.38     False\n",
       "1              35.06     False\n",
       "2              30.56     False\n",
       "3              56.12     False\n",
       "4              61.70     False\n",
       "..               ...       ...\n",
       "360            61.88     False\n",
       "361            65.48     False\n",
       "362            91.94     False\n",
       "363            53.06     False\n",
       "364            80.96     False\n",
       "\n",
       "[365 rows x 2 columns]"
      ]
     },
     "execution_count": 98,
     "metadata": {},
     "output_type": "execute_result"
    }
   ],
   "source": [
    "# Create new column 'Temp_Celsius' - Temperature is already in Celcius? I will make column called Temp_Fahrenheit and rename the original Temp_Celcius\n",
    "\n",
    "df = df.rename(columns = {'Temperature (C)': 'Temp_Celsius'})\n",
    "df['Temp_Fahrenheit'] = (df['Temp_Celsius'] * 9/5) + 32\n",
    "\n",
    "# Create new column 'IsDryDay' (True if no precipitation, False otherwise)\n",
    "\n",
    "df['IsDryDay'] = df['Precipitation (mm)'] == 0\n",
    "\n",
    "# Display the new columns\n",
    "\n",
    "df[['Temp_Fahrenheit', 'IsDryDay']]"
   ]
  },
  {
   "cell_type": "code",
   "execution_count": 99,
   "id": "ffd88adf-1d63-41b6-a040-d68f5bad6074",
   "metadata": {},
   "outputs": [
    {
     "data": {
      "text/plain": [
       "2"
      ]
     },
     "execution_count": 99,
     "metadata": {},
     "output_type": "execute_result"
    }
   ],
   "source": [
    "#Checking if there are any dry days -  and there are 2\n",
    "df['IsDryDay'].sum()"
   ]
  },
  {
   "cell_type": "markdown",
   "id": "9fadd3b5",
   "metadata": {},
   "source": [
    "### 5. Analyze the Data (2 points)\n",
    "- Calculate the average temperature in Celsius for each year.\n",
    "- Find the number of dry days per year."
   ]
  },
  {
   "cell_type": "code",
   "execution_count": 100,
   "id": "46bd473b",
   "metadata": {},
   "outputs": [
    {
     "name": "stdout",
     "output_type": "stream",
     "text": [
      "How many different Years do we have in this dataset? :1\n",
      "So only year 2023.\n",
      "\n",
      "Average temperature per year (2023) in C:\n",
      "Year\n",
      "2023    13.255616\n",
      "Name: Temp_Celsius, dtype: float64\n",
      "\n",
      "Number of Dry Days per Year:\n",
      "Year\n",
      "2023    2\n",
      "Name: IsDryDay, dtype: int64\n"
     ]
    }
   ],
   "source": [
    "# Convert the 'date' column to datetime format\n",
    "\n",
    "df['Date'] = pd.to_datetime(df['Date'])\n",
    "\n",
    "# Extract the year from the date\n",
    "\n",
    "df['Year'] = df['Date'].dt.year\n",
    "\n",
    "# Calculate the average temperature for each year. We only have 2023?\n",
    "\n",
    "print(f\"How many different Years do we have in this dataset? :{df['Year'].nunique()}\\nSo only year 2023.\\n\") # answer is 1 so only 2023\n",
    "\n",
    "print(\"Average temperature per year (2023) in C:\")\n",
    "avg_temp_per_year = (df.groupby('Year')['Temp_Celsius'].mean())\n",
    "print(f\"{avg_temp_per_year}\\n\")\n",
    "\n",
    "# Calculate the number of dry days per year\n",
    "\n",
    "print(\"Number of Dry Days per Year:\")\n",
    "dry_days_per_year = (df.groupby('Year')['IsDryDay'].sum())\n",
    "print(dry_days_per_year)"
   ]
  },
  {
   "cell_type": "markdown",
   "id": "17c89284",
   "metadata": {},
   "source": [
    "### 6. Export the Cleaned Data (2 points)\n",
    "- Export the cleaned and transformed data to a new CSV file.\n"
   ]
  },
  {
   "cell_type": "code",
   "execution_count": 101,
   "id": "009cf758",
   "metadata": {},
   "outputs": [
    {
     "name": "stdout",
     "output_type": "stream",
     "text": [
      "True\n"
     ]
    },
    {
     "data": {
      "text/html": [
       "<div>\n",
       "<style scoped>\n",
       "    .dataframe tbody tr th:only-of-type {\n",
       "        vertical-align: middle;\n",
       "    }\n",
       "\n",
       "    .dataframe tbody tr th {\n",
       "        vertical-align: top;\n",
       "    }\n",
       "\n",
       "    .dataframe thead th {\n",
       "        text-align: right;\n",
       "    }\n",
       "</style>\n",
       "<table border=\"1\" class=\"dataframe\">\n",
       "  <thead>\n",
       "    <tr style=\"text-align: right;\">\n",
       "      <th></th>\n",
       "      <th>Date</th>\n",
       "      <th>Temp_Celsius</th>\n",
       "      <th>Humidity (%)</th>\n",
       "      <th>Precipitation (mm)</th>\n",
       "      <th>Wind Speed (km/h)</th>\n",
       "      <th>Weather Condition</th>\n",
       "      <th>Visibility (km)</th>\n",
       "      <th>Temp_Fahrenheit</th>\n",
       "      <th>IsDryDay</th>\n",
       "      <th>Year</th>\n",
       "    </tr>\n",
       "  </thead>\n",
       "  <tbody>\n",
       "    <tr>\n",
       "      <th>0</th>\n",
       "      <td>2023-01-01</td>\n",
       "      <td>29.1</td>\n",
       "      <td>89.4</td>\n",
       "      <td>14.2</td>\n",
       "      <td>59.5</td>\n",
       "      <td>Snowy</td>\n",
       "      <td>14.8</td>\n",
       "      <td>84.38</td>\n",
       "      <td>False</td>\n",
       "      <td>2023</td>\n",
       "    </tr>\n",
       "    <tr>\n",
       "      <th>1</th>\n",
       "      <td>2023-01-02</td>\n",
       "      <td>1.7</td>\n",
       "      <td>73.9</td>\n",
       "      <td>5.8</td>\n",
       "      <td>68.7</td>\n",
       "      <td>Rainy</td>\n",
       "      <td>14.2</td>\n",
       "      <td>35.06</td>\n",
       "      <td>False</td>\n",
       "      <td>2023</td>\n",
       "    </tr>\n",
       "    <tr>\n",
       "      <th>2</th>\n",
       "      <td>2023-01-03</td>\n",
       "      <td>-0.8</td>\n",
       "      <td>67.6</td>\n",
       "      <td>15.7</td>\n",
       "      <td>92.0</td>\n",
       "      <td>Snowy</td>\n",
       "      <td>17.2</td>\n",
       "      <td>30.56</td>\n",
       "      <td>False</td>\n",
       "      <td>2023</td>\n",
       "    </tr>\n",
       "    <tr>\n",
       "      <th>3</th>\n",
       "      <td>2023-01-04</td>\n",
       "      <td>13.4</td>\n",
       "      <td>42.2</td>\n",
       "      <td>19.1</td>\n",
       "      <td>36.1</td>\n",
       "      <td>Sunny</td>\n",
       "      <td>10.6</td>\n",
       "      <td>56.12</td>\n",
       "      <td>False</td>\n",
       "      <td>2023</td>\n",
       "    </tr>\n",
       "    <tr>\n",
       "      <th>4</th>\n",
       "      <td>2023-01-05</td>\n",
       "      <td>16.5</td>\n",
       "      <td>62.6</td>\n",
       "      <td>6.6</td>\n",
       "      <td>57.8</td>\n",
       "      <td>Rainy</td>\n",
       "      <td>8.7</td>\n",
       "      <td>61.70</td>\n",
       "      <td>False</td>\n",
       "      <td>2023</td>\n",
       "    </tr>\n",
       "  </tbody>\n",
       "</table>\n",
       "</div>"
      ],
      "text/plain": [
       "         Date  Temp_Celsius  Humidity (%)  Precipitation (mm)  \\\n",
       "0  2023-01-01          29.1          89.4                14.2   \n",
       "1  2023-01-02           1.7          73.9                 5.8   \n",
       "2  2023-01-03          -0.8          67.6                15.7   \n",
       "3  2023-01-04          13.4          42.2                19.1   \n",
       "4  2023-01-05          16.5          62.6                 6.6   \n",
       "\n",
       "   Wind Speed (km/h) Weather Condition  Visibility (km)  Temp_Fahrenheit  \\\n",
       "0               59.5             Snowy             14.8            84.38   \n",
       "1               68.7             Rainy             14.2            35.06   \n",
       "2               92.0             Snowy             17.2            30.56   \n",
       "3               36.1             Sunny             10.6            56.12   \n",
       "4               57.8             Rainy              8.7            61.70   \n",
       "\n",
       "   IsDryDay  Year  \n",
       "0     False  2023  \n",
       "1     False  2023  \n",
       "2     False  2023  \n",
       "3     False  2023  \n",
       "4     False  2023  "
      ]
     },
     "execution_count": 101,
     "metadata": {},
     "output_type": "execute_result"
    }
   ],
   "source": [
    "import os\n",
    "\n",
    "# Save the cleaned and transformed data to a new CSV file\n",
    "\n",
    "df.to_csv('cleaned_weather_data.csv', index = False)\n",
    "\n",
    "\n",
    "# Confirm the data has been saved\n",
    "\n",
    "print(os.path.exists('cleaned_weather_data.csv'))\n",
    "\n",
    "pd.read_csv('cleaned_weather_data.csv').head()"
   ]
  },
  {
   "cell_type": "markdown",
   "id": "18b96eea",
   "metadata": {},
   "source": [
    "## Expected Output:\n",
    "\n",
    "- The dataset should now have no missing values in the temperature, precipitation, and humidity columns.\n",
    "- Two new columns: Temp_Celsius (temperature in Celsius) and IsDryDay (True/False for dry days).\n",
    "- A summary showing the average temperature per year and the number of dry days per year.\n",
    "\n"
   ]
  }
 ],
 "metadata": {
  "kernelspec": {
   "display_name": "Python [conda env:base] *",
   "language": "python",
   "name": "conda-base-py"
  },
  "language_info": {
   "codemirror_mode": {
    "name": "ipython",
    "version": 3
   },
   "file_extension": ".py",
   "mimetype": "text/x-python",
   "name": "python",
   "nbconvert_exporter": "python",
   "pygments_lexer": "ipython3",
   "version": "3.12.3"
  }
 },
 "nbformat": 4,
 "nbformat_minor": 5
}
