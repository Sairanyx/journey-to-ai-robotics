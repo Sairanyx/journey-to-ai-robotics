{
 "cells": [
  {
   "cell_type": "markdown",
   "id": "ab6eaaa4",
   "metadata": {},
   "source": [
    "# Classwork 01: Student Performance Analysis¶\n",
    "Created by Golnaz Sahebi, Organized by Gemini, Autumn 2025\n",
    "### Objective:¶\n",
    "In this hands-on assignment, you will:\n",
    "- Create a DataFrame using a provided dataset of student records.\n",
    "- Use Pandas to manipulate and analyze the dataset.\n",
    "- Apply numerical operations to calculate new metrics.\n",
    "- Perform advanced data grouping and filtering operations.\n",
    "### Instructions:¶\n",
    "You are provided with a dataset of students with the following columns:\n",
    "- Student Name: The name of the student.\n",
    "- Major: The student's primary field of study.\n",
    "- Grade_Math: The student's grade in the Math course.\n",
    "- Grade_Science: The student's grade in the Science course.\n",
    "- Attendance_Percentage: The student's attendance rate as a percentage."
   ]
  },
  {
   "cell_type": "markdown",
   "id": "dc17a640",
   "metadata": {},
   "source": [
    "#### 1. Create the Data and Use the provided data to create a DataFrame.¶\n",
    "- Hint: Use a dictionary to represent the student data and pass it to pd.DataFrame() to create the DataFrame."
   ]
  },
  {
   "cell_type": "code",
   "execution_count": 1,
   "id": "b4c2cf6e",
   "metadata": {},
   "outputs": [
    {
     "name": "stdout",
     "output_type": "stream",
     "text": [
      "  Student Name             Major  Grade_Math  Grade_Science  \\\n",
      "0         Anna           Biology          85             91   \n",
      "1        Brian  Computer Science          92             85   \n",
      "2        Clara           Physics          78             95   \n",
      "3        Derek  Computer Science          88             82   \n",
      "4        Eliza           Biology          90             88   \n",
      "\n",
      "   Attendance_Percentage  \n",
      "0                     95  \n",
      "1                     88  \n",
      "2                     98  \n",
      "3                     91  \n",
      "4                     85  \n"
     ]
    }
   ],
   "source": [
    "import pandas as pd\n",
    "import numpy as np\n",
    "\n",
    "# Dictionary of student data\n",
    "data = {\n",
    "    'Student Name': ['Anna', 'Brian', 'Clara', 'Derek', 'Eliza'],\n",
    "    'Major': ['Biology', 'Computer Science', 'Physics', 'Computer Science', 'Biology'],\n",
    "    'Grade_Math': [85, 92, 78, 88, 90],\n",
    "    'Grade_Science': [91, 85, 95, 82, 88],\n",
    "    'Attendance_Percentage': [95, 88, 98, 91, 85]\n",
    "}\n",
    "\n",
    "# Create the DataFrame from the dictionary\n",
    "df = pd.DataFrame(data)\n",
    "\n",
    "# Display the DataFrame to verify its structure\n",
    "print(df)"
   ]
  },
  {
   "cell_type": "markdown",
   "id": "59e85055",
   "metadata": {},
   "source": [
    "#### 2. Add a New Column 'Average_Grade'.¶\n",
    "- Create a new column Average_Grade that calculates the average of Grade_Math and Grade_Science for each student."
   ]
  },
  {
   "cell_type": "code",
   "execution_count": 3,
   "id": "5e5376a4",
   "metadata": {},
   "outputs": [
    {
     "name": "stdout",
     "output_type": "stream",
     "text": [
      "  Student Name             Major  Grade_Math  Grade_Science  \\\n",
      "0         Anna           Biology          85             91   \n",
      "1        Brian  Computer Science          92             85   \n",
      "2        Clara           Physics          78             95   \n",
      "3        Derek  Computer Science          88             82   \n",
      "4        Eliza           Biology          90             88   \n",
      "\n",
      "   Attendance_Percentage  Average_Grade  \n",
      "0                     95           88.0  \n",
      "1                     88           88.5  \n",
      "2                     98           86.5  \n",
      "3                     91           85.0  \n",
      "4                     85           89.0  \n"
     ]
    }
   ],
   "source": [
    "# Calculate the average grade\n",
    "df['Average_Grade'] = (df['Grade_Math'] + df['Grade_Science']) / 2\n",
    "\n",
    "# Print the updated DataFrame to check the new column\n",
    "print(df)"
   ]
  },
  {
   "cell_type": "markdown",
   "id": "579cccc7",
   "metadata": {},
   "source": [
    "#### 3. Filter Students with High Attendance.¶\n",
    "- Find all students who have an attendance rate of more than 90% and display their details.\n",
    "- Hint: Use filtering with df[] to select rows where Attendance_Percentage is greater than 90."
   ]
  },
  {
   "cell_type": "code",
   "execution_count": 4,
   "id": "4c727a6f",
   "metadata": {},
   "outputs": [
    {
     "name": "stdout",
     "output_type": "stream",
     "text": [
      "  Student Name             Major  Grade_Math  Grade_Science  \\\n",
      "0         Anna           Biology          85             91   \n",
      "2        Clara           Physics          78             95   \n",
      "3        Derek  Computer Science          88             82   \n",
      "\n",
      "   Attendance_Percentage  Average_Grade  \n",
      "0                     95           88.0  \n",
      "2                     98           86.5  \n",
      "3                     91           85.0  \n"
     ]
    }
   ],
   "source": [
    "# Filter rows where 'Attendance_Percentage' > 90\n",
    "attendance_percentage = df[df['Attendance_Percentage'] > 90]\n",
    "\n",
    "# Display the filtered DataFrame\n",
    "print(attendance_percentage)"
   ]
  },
  {
   "cell_type": "markdown",
   "id": "872338ec",
   "metadata": {},
   "source": [
    "#### 4. Find the Average Math Grade.¶\n",
    "- Calculate and display the average Grade_Math of all students.\n",
    "- Hint: The .mean() function is used to calculate the average of the Grade_Math column."
   ]
  },
  {
   "cell_type": "code",
   "execution_count": 6,
   "id": "e7a6dbcd",
   "metadata": {},
   "outputs": [
    {
     "name": "stdout",
     "output_type": "stream",
     "text": [
      "86.6\n"
     ]
    }
   ],
   "source": [
    "# Calculate the average math grade using the mean() function\n",
    "average_grade_math = df['Grade_Math'].mean()\n",
    "# Print the average math grade\n",
    "print(average_grade_math)"
   ]
  },
  {
   "cell_type": "markdown",
   "id": "a52ab224",
   "metadata": {},
   "source": [
    "#### 5. Sort Students by Average Grade.¶\n",
    "- Sort the students in descending order based on their Average_Grade.\n",
    "- Hint: The .sort_values() function sorts the DataFrame by the Average_Grade column in descending order."
   ]
  },
  {
   "cell_type": "code",
   "execution_count": 8,
   "id": "19063fd8",
   "metadata": {},
   "outputs": [
    {
     "name": "stdout",
     "output_type": "stream",
     "text": [
      "  Student Name             Major  Grade_Math  Grade_Science  \\\n",
      "4        Eliza           Biology          90             88   \n",
      "1        Brian  Computer Science          92             85   \n",
      "0         Anna           Biology          85             91   \n",
      "2        Clara           Physics          78             95   \n",
      "3        Derek  Computer Science          88             82   \n",
      "\n",
      "   Attendance_Percentage  Average_Grade  \n",
      "4                     85           89.0  \n",
      "1                     88           88.5  \n",
      "0                     95           88.0  \n",
      "2                     98           86.5  \n",
      "3                     91           85.0  \n"
     ]
    }
   ],
   "source": [
    "# Sort the DataFrame by 'Average_Grade' in descending order\n",
    "sorted_by_AveGrade = df.sort_values(by='Average_Grade', ascending=False)\n",
    "\n",
    "# Display the sorted DataFrame\n",
    "print(sorted_by_AveGrade)"
   ]
  },
  {
   "cell_type": "markdown",
   "id": "3f92b5e6",
   "metadata": {},
   "source": [
    "#### 6. Find Students in the 'Computer Science' Major.¶\n",
    "- Display all the students who are in the 'Computer Science' major.\n",
    "- Hint: This filters students where the Major column equals 'Computer Science'."
   ]
  },
  {
   "cell_type": "code",
   "execution_count": 9,
   "id": "6eaa5733",
   "metadata": {},
   "outputs": [
    {
     "name": "stdout",
     "output_type": "stream",
     "text": [
      "  Student Name             Major  Grade_Math  Grade_Science  \\\n",
      "1        Brian  Computer Science          92             85   \n",
      "3        Derek  Computer Science          88             82   \n",
      "\n",
      "   Attendance_Percentage  Average_Grade  \n",
      "1                     88           88.5  \n",
      "3                     91           85.0  \n"
     ]
    }
   ],
   "source": [
    "# Filter rows where the 'Major' is 'Computer Science'\n",
    "computer_science_major = df[df['Major'] == 'Computer Science']\n",
    "\n",
    "# Display the filtered DataFrame\n",
    "print(computer_science_major)"
   ]
  },
  {
   "cell_type": "markdown",
   "id": "93c6456a",
   "metadata": {},
   "source": [
    "#### 7. Calculate Total Number of Students.¶\n",
    "- Calculate the total number of students in the dataset.\n",
    "- Hint: The len() function can be used on a DataFrame to find the total number of rows (i.e., students)."
   ]
  },
  {
   "cell_type": "code",
   "execution_count": 10,
   "id": "d296592d",
   "metadata": {},
   "outputs": [
    {
     "name": "stdout",
     "output_type": "stream",
     "text": [
      "5\n"
     ]
    }
   ],
   "source": [
    "# Calculate the total number of students\n",
    "total_numberof_students = len(df)\n",
    "\n",
    "# Print the total number of students\n",
    "print(total_numberof_students)"
   ]
  },
  {
   "cell_type": "markdown",
   "id": "bb5a4a6c",
   "metadata": {},
   "source": [
    "#### 8. Find the Top-Performing Student.¶\n",
    "- Identify the student with the highest Average_Grade and display their details.\n",
    "- Hint: The .max() function finds the maximum value of the Average_Grade column, and we filter to find the row where the average grade is the highest."
   ]
  },
  {
   "cell_type": "code",
   "execution_count": 11,
   "id": "507c829c",
   "metadata": {},
   "outputs": [
    {
     "name": "stdout",
     "output_type": "stream",
     "text": [
      "  Student Name    Major  Grade_Math  Grade_Science  Attendance_Percentage  \\\n",
      "4        Eliza  Biology          90             88                     85   \n",
      "\n",
      "   Average_Grade  \n",
      "4           89.0  \n"
     ]
    }
   ],
   "source": [
    "# Find the row where 'Average_Grade' is the maximum\n",
    "max_grade_student = df[df['Average_Grade'] == df['Average_Grade'].max()]\n",
    "\n",
    "# Display the top student's details\n",
    "print(max_grade_student)"
   ]
  },
  {
   "cell_type": "markdown",
   "id": "e156337e",
   "metadata": {},
   "source": [
    "#### 9. Group Students by Major and Find the Average Science Grade.¶\n",
    "- Group the students by their Major and calculate the average Grade_Science in each major.\n",
    "- Hint: The groupby() function groups the students by the Major column, and then the .mean() function calculates the average science grade within each major."
   ]
  },
  {
   "cell_type": "code",
   "execution_count": 12,
   "id": "19bb1520",
   "metadata": {},
   "outputs": [
    {
     "name": "stdout",
     "output_type": "stream",
     "text": [
      "Major\n",
      "Biology             89.5\n",
      "Computer Science    83.5\n",
      "Physics             95.0\n",
      "Name: Grade_Science, dtype: float64\n"
     ]
    }
   ],
   "source": [
    "# Group by 'Major' and calculate the mean science grade for each group\n",
    "avg_grad_by_major = df.groupby('Major')['Grade_Science'].mean()\n",
    "\n",
    "# Print the average science grade for each major\n",
    "print(avg_grad_by_major)"
   ]
  },
  {
   "cell_type": "markdown",
   "id": "6f7c28da",
   "metadata": {},
   "source": [
    "#### 10. Group Students by Major and Count Them.¶\n",
    "- Group the students by their Major and count how many students are in each major.\n",
    "- Hint: groupby() is used to group students by Major, and the .size() function counts the number of entries in each group."
   ]
  },
  {
   "cell_type": "code",
   "execution_count": 13,
   "id": "fdb3f191",
   "metadata": {},
   "outputs": [
    {
     "name": "stdout",
     "output_type": "stream",
     "text": [
      "Major\n",
      "Biology             2\n",
      "Computer Science    2\n",
      "Physics             1\n",
      "dtype: int64\n"
     ]
    }
   ],
   "source": [
    "# Group by 'Major' and count the number of students in each group\n",
    "size_by_major = df.groupby('Major').size()\n",
    "\n",
    "# Print the student count for each major\n",
    "print(size_by_major)"
   ]
  },
  {
   "cell_type": "markdown",
   "id": "0e444c16",
   "metadata": {},
   "source": [
    "#### 11. Add a Column 'Status' Based on Performance (Without apply() or lambda).¶\n",
    "- Add a new column 'Status' to the DataFrame. The status is determined as follows:\n",
    "If the student's Average_Grade is 88 or higher, their status is 'Honor Roll'.\n",
    "Otherwise, their status is 'Satisfactory'.\n",
    "- If the student's Average_Grade is 88 or higher, their status is 'Honor Roll'.\n",
    "- Otherwise, their status is 'Satisfactory'.\n",
    "- Hint: Use the .loc[] method to filter and assign values based on the condition. This method is excellent for updating specific rows based on logic.\n",
    "This task reinforces the use of conditional logic with the .loc[] method, a key tool for data manipulation in Pandas. It teaches how to update specific rows or columns based on conditions, without needing to use apply() or lambda.\n",
    "Note: A more advanced solution for this kind of tasks is to use the apply() and lambada functions. In this case,  the lambda function is used inside the apply() function to create a new column, 'Status', based on the values in the 'Average_Grade' column of the DataFrame. You can search the web to find more information in this regard."
   ]
  },
  {
   "cell_type": "code",
   "execution_count": 14,
   "id": "484dc5dc",
   "metadata": {},
   "outputs": [
    {
     "name": "stdout",
     "output_type": "stream",
     "text": [
      "  Student Name             Major  Grade_Math  Grade_Science  \\\n",
      "0         Anna           Biology          85             91   \n",
      "1        Brian  Computer Science          92             85   \n",
      "2        Clara           Physics          78             95   \n",
      "3        Derek  Computer Science          88             82   \n",
      "4        Eliza           Biology          90             88   \n",
      "\n",
      "   Attendance_Percentage  Average_Grade        Status  \n",
      "0                     95           88.0    Honor Roll  \n",
      "1                     88           88.5    Honor Roll  \n",
      "2                     98           86.5  Satisfactory  \n",
      "3                     91           85.0  Satisfactory  \n",
      "4                     85           89.0    Honor Roll  \n"
     ]
    }
   ],
   "source": [
    "# Create a new 'Status' column initialized with a default value\n",
    "df['Status'] = 'Satisfactory'\n",
    "\n",
    "# Update the status to 'Honor Roll' for students with an average grade of 88 or higher\n",
    "df.loc[df['Average_Grade'] >= 88, 'Status'] = 'Honor Roll'\n",
    "\n",
    "# Print the DataFrame to check the added 'Status' column\n",
    "print(df)"
   ]
  },
  {
   "cell_type": "markdown",
   "id": "b846695f",
   "metadata": {},
   "source": [
    "#### Optional: Add a Column 'Status' Based on Performance (Using apply() and lambda)¶\n",
    "- We will calculate the 'Status' column where:\n",
    "Students with an Average_Grade of 88 or higher get a status of 'Honor Roll'.\n",
    "Students with an Average_Grade below 88 get a status of 'Satisfactory'.\n",
    "- Students with an Average_Grade of 88 or higher get a status of 'Honor Roll'.\n",
    "- Students with an Average_Grade below 88 get a status of 'Satisfactory'."
   ]
  },
  {
   "cell_type": "code",
   "execution_count": 15,
   "id": "2c5e9e49",
   "metadata": {},
   "outputs": [
    {
     "name": "stdout",
     "output_type": "stream",
     "text": [
      "  Student Name             Major  Grade_Math  Grade_Science  \\\n",
      "0         Anna           Biology          85             91   \n",
      "1        Brian  Computer Science          92             85   \n",
      "2        Clara           Physics          78             95   \n",
      "3        Derek  Computer Science          88             82   \n",
      "4        Eliza           Biology          90             88   \n",
      "\n",
      "   Attendance_Percentage  Average_Grade        Status  \n",
      "0                     95           88.0    Honor Roll  \n",
      "1                     88           88.5    Honor Roll  \n",
      "2                     98           86.5  Satisfactory  \n",
      "3                     91           85.0  Satisfactory  \n",
      "4                     85           89.0    Honor Roll  \n"
     ]
    }
   ],
   "source": [
    "# Create a new 'Status' column using apply and a lambda function\n",
    "df['Status'] = df['Average_Grade'].apply(lambda row: 'Honor Roll' if row >= 88 else 'Satisfactory')\n",
    "\n",
    "# Print the DataFrame to check the added 'Status' column\n",
    "print(df)"
   ]
  },
  {
   "cell_type": "markdown",
   "id": "05bee1be",
   "metadata": {},
   "source": [
    "### Good Luck!¶"
   ]
  }
 ],
 "metadata": {
  "kernelspec": {
   "display_name": "Python [conda env:base] *",
   "language": "python",
   "name": "conda-base-py"
  },
  "language_info": {
   "codemirror_mode": {
    "name": "ipython",
    "version": 3
   },
   "file_extension": ".py",
   "mimetype": "text/x-python",
   "name": "python",
   "nbconvert_exporter": "python",
   "pygments_lexer": "ipython3",
   "version": "3.12.3"
  }
 },
 "nbformat": 4,
 "nbformat_minor": 5
}
