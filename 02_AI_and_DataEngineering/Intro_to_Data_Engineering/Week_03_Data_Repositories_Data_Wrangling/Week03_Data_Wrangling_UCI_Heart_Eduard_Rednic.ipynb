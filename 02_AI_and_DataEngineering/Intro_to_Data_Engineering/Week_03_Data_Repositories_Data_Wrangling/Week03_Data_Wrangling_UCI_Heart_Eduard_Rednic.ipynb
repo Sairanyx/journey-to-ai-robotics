{
 "cells": [
  {
   "attachments": {
    "ad10d2b3-f6fd-4a8c-9433-01eda1a90532.png": {
     "image/png": "[encoded data removed]"
    }
   },
   "cell_type": "markdown",
   "id": "d0c24464",
   "metadata": {},
   "source": [
    "![download.png](attachment:ad10d2b3-f6fd-4a8c-9433-01eda1a90532.png)        Created by Golnaz Sahebi, Introduction to Data Engineering, Autumn 2025\n",
    "\n",
    "---    \n",
    "\n",
    "\n",
    "# Hands-on 02: Data Wrangling with the Heart Disease UCI Dataset\n",
    "\n",
    "**Data wrangling**, also known as data munging, is the process of cleaning, transforming, and organizing raw data into a structured and usable format for analysis. It involves tasks such as handling missing values, correcting data types, filtering, merging, and creating new features to prepare the data for further analysis or machine learning models. The goal of data wrangling is to make the data more consistent, accurate, and ready for meaningful insights.\n",
    "\n",
    "## Description: \n",
    "In this exercise, we will work with the Heart Disease dataset from the UCI Machine Learning Repository. The goal is to perform data wrangling tasks, including handling missing values, creating new features, analyzing the data, and saving the cleaned data for future use.\n",
    "\n",
    "## Dataset Overview:\n",
    "The Heart Disease dataset contains 14 attributes and is used to predict the presence of heart disease in patients. The \n",
    "\n",
    "attributes include:\n",
    "\n",
    "- **age:** Age of the patient\n",
    "- **sex:** Gender of the patient (1 = male, 0 = female)\n",
    "- **cp:** Chest pain type (0 to 3)\n",
    "- **trestbps:** Resting blood pressure (in mm Hg)\n",
    "- **chol:** Serum cholesterol in mg/dl\n",
    "- **fbs:** Fasting blood sugar > 120 mg/dl (1 = true; 0 = false)\n",
    "- **restecg:** Resting electrocardiographic results (0 to 2)\n",
    "- **thalach:** Maximum heart rate achieved\n",
    "- **exang:** Exercise-induced angina (1 = yes; 0 = no)\n",
    "- **oldpeak:** ST depression induced by exercise relative to rest\n",
    "- **slope:** The slope of the peak exercise ST segment\n",
    "- **ca:** Number of major vessels (0–3) colored by fluoroscopy\n",
    "- **thal:** Thalassemia (3 = normal; 6 = fixed defect; 7 = reversible defect)\n",
    "- **target:** Diagnosis of heart disease (1 = disease present, 0 = no disease)\n",
    "\n",
    "## Steps:\n",
    "\n",
    "### 1. Load the Dataset:\n",
    "\n",
    "- Load the Heart Disease dataset from a URL into a Pandas DataFrame \n",
    "\n",
    "### 2. Inspect the Dataset:\n",
    "\n",
    "- Display the first few rows to understand the data structure.\n",
    "- Identify missing values, if any.\n",
    "\n",
    "### 3. Handle Missing Values:\n",
    "\n",
    "- Fill the missing values with the **mode**.\n",
    "\n",
    "**Note:** The dataset contains missing values represented by a **'?'**. We'll replace these values with **NaN** (Not a Number) and handle missing values in specific columns by replacing them with the mode (most frequent value).\n",
    "\n",
    "### 4. Create New Columns:\n",
    "\n",
    "- Create a new column called **cholesterol_level**, where values are classified as:\n",
    "    - High if chol > 240\n",
    "    - Borderline if 200 < chol ≤ 240\n",
    "    - Normal if chol ≤ 200\n",
    "\n",
    "- Create a new column called **age_group** to group patients into categories like:\n",
    "    - Young (age < 40)\n",
    "    - Middle-aged (40 ≤ age < 60)\n",
    "    - Senior (age ≥ 60)\n",
    "\n",
    "- Analyze the Data:\n",
    "    - Calculate the **average cholesterol levels** by gender and age group.\n",
    "    - Find the **number of patients with heart disease** in each age group.\n",
    "\n",
    "- Export the Cleaned Data:\n",
    "    - Write the cleaned and transformed data to a new CSV file.\n",
    "    \n",
    "\n",
    "\n",
    "\n",
    "\n",
    "\n",
    "\n",
    "\n"
   ]
  },
  {
   "cell_type": "code",
   "execution_count": 3,
   "id": "1f37fe6f",
   "metadata": {},
   "outputs": [
    {
     "name": "stdout",
     "output_type": "stream",
     "text": [
      "    age  sex   cp  trestbps   chol  fbs  restecg  thalach  exang  oldpeak  \\\n",
      "0  63.0  1.0  1.0     145.0  233.0  1.0      2.0    150.0    0.0      2.3   \n",
      "1  67.0  1.0  4.0     160.0  286.0  0.0      2.0    108.0    1.0      1.5   \n",
      "2  67.0  1.0  4.0     120.0  229.0  0.0      2.0    129.0    1.0      2.6   \n",
      "3  37.0  1.0  3.0     130.0  250.0  0.0      0.0    187.0    0.0      3.5   \n",
      "4  41.0  0.0  2.0     130.0  204.0  0.0      2.0    172.0    0.0      1.4   \n",
      "\n",
      "   slope   ca thal  target  \n",
      "0    3.0  0.0  6.0       0  \n",
      "1    2.0  3.0  3.0       2  \n",
      "2    2.0  2.0  7.0       1  \n",
      "3    3.0  0.0  3.0       0  \n",
      "4    1.0  0.0  3.0       0  \n",
      "\n",
      "<class 'pandas.core.frame.DataFrame'>\n",
      "RangeIndex: 303 entries, 0 to 302\n",
      "Data columns (total 14 columns):\n",
      " #   Column    Non-Null Count  Dtype  \n",
      "---  ------    --------------  -----  \n",
      " 0   age       303 non-null    float64\n",
      " 1   sex       303 non-null    float64\n",
      " 2   cp        303 non-null    float64\n",
      " 3   trestbps  303 non-null    float64\n",
      " 4   chol      303 non-null    float64\n",
      " 5   fbs       303 non-null    float64\n",
      " 6   restecg   303 non-null    float64\n",
      " 7   thalach   303 non-null    float64\n",
      " 8   exang     303 non-null    float64\n",
      " 9   oldpeak   303 non-null    float64\n",
      " 10  slope     303 non-null    float64\n",
      " 11  ca        303 non-null    object \n",
      " 12  thal      303 non-null    object \n",
      " 13  target    303 non-null    int64  \n",
      "dtypes: float64(11), int64(1), object(2)\n",
      "memory usage: 33.3+ KB\n",
      "None\n"
     ]
    }
   ],
   "source": [
    "# Import necessary libraries\n",
    "import pandas as pd\n",
    "\n",
    "# Step 1: Load the Dataset from the URL with defining the column names as the dataset doesn’t have headers.\n",
    "url = 'https://archive.ics.uci.edu/ml/machine-learning-databases/heart-disease/processed.cleveland.data'\n",
    "columns = ['age', 'sex', 'cp', 'trestbps', 'chol', 'fbs', 'restecg', 'thalach', 'exang', 'oldpeak', 'slope', 'ca', 'thal', 'target']\n",
    "df = pd.read_csv(url, names = columns)\n",
    "\n",
    "# Show the first few rows to verify the data\n",
    "print(df.head())\n",
    "print()\n",
    "print(df.info())"
   ]
  },
  {
   "cell_type": "code",
   "execution_count": 6,
   "id": "ae4af562",
   "metadata": {},
   "outputs": [
    {
     "name": "stdout",
     "output_type": "stream",
     "text": [
      "age         0\n",
      "sex         0\n",
      "cp          0\n",
      "trestbps    0\n",
      "chol        0\n",
      "fbs         0\n",
      "restecg     0\n",
      "thalach     0\n",
      "exang       0\n",
      "oldpeak     0\n",
      "slope       0\n",
      "ca          0\n",
      "thal        0\n",
      "target      0\n",
      "dtype: int64\n"
     ]
    }
   ],
   "source": [
    "# Check for missing values\n",
    "\n",
    "print(df.isnull().sum())"
   ]
  },
  {
   "cell_type": "code",
   "execution_count": 8,
   "id": "3c954362-eae0-4ed5-9eaf-c36656c2730f",
   "metadata": {},
   "outputs": [
    {
     "name": "stdout",
     "output_type": "stream",
     "text": [
      "age         0\n",
      "sex         0\n",
      "cp          0\n",
      "trestbps    0\n",
      "chol        0\n",
      "fbs         0\n",
      "restecg     0\n",
      "thalach     0\n",
      "exang       0\n",
      "oldpeak     0\n",
      "slope       0\n",
      "ca          4\n",
      "thal        2\n",
      "target      0\n",
      "dtype: int64\n"
     ]
    }
   ],
   "source": [
    "# Step 3: Handle Missing Values\n",
    "\n",
    "# Replace missing values denoted by '?' with NaN (Pandas' standard missing value representation) \n",
    "\n",
    "df.replace('?', pd.NA, inplace = True)\n",
    "print(df.isnull().sum())"
   ]
  },
  {
   "cell_type": "code",
   "execution_count": 11,
   "id": "d17c6a48",
   "metadata": {},
   "outputs": [
    {
     "name": "stdout",
     "output_type": "stream",
     "text": [
      "Data type of 'ca': float64\n",
      "Data type of 'thal': float64\n",
      "age         0\n",
      "sex         0\n",
      "cp          0\n",
      "trestbps    0\n",
      "chol        0\n",
      "fbs         0\n",
      "restecg     0\n",
      "thalach     0\n",
      "exang       0\n",
      "oldpeak     0\n",
      "slope       0\n",
      "ca          4\n",
      "thal        2\n",
      "target      0\n",
      "dtype: int64\n",
      "Data type of 'ca': float64\n",
      "Data type of 'thal': float64\n"
     ]
    }
   ],
   "source": [
    "# Convert 'ca' and 'thal' columns to numeric (their type is still as object/text since they had '?' values initially, or any number-like strings (e.g., \"3.0\") be available)\n",
    "# Without the pd.to_numeric step, your columns would remain as text, and any attempt to calculate the median or mean would fail with a TypeError.\n",
    "# errors='coerce' is an instruction that tells Pandas what to do if it encounters a value it cannot convert into a number: it will force the problematic value to become NaN (Not a Number).\n",
    "\n",
    "df['ca'] = pd.to_numeric(df['ca'], errors = 'coerce')\n",
    "df['thal'] = pd.to_numeric(df['thal'], errors = 'coerce')\n",
    "                            \n",
    "print(\"Data type of 'ca':\", df['ca'].dtype)\n",
    "print(\"Data type of 'thal':\", df['thal'].dtype)\n",
    "\n",
    "# Now check again for missing values after '?' replacement\n",
    "\n",
    "print(df.isnull().sum())\n",
    "\n",
    "print(\"Data type of 'ca':\", df['ca'].dtype)\n",
    "print(\"Data type of 'thal':\", df['thal'].dtype)"
   ]
  },
  {
   "cell_type": "code",
   "execution_count": 13,
   "id": "f0148ac1-a995-493a-9e48-4c48e2118e1e",
   "metadata": {},
   "outputs": [
    {
     "name": "stdout",
     "output_type": "stream",
     "text": [
      "age         0\n",
      "sex         0\n",
      "cp          0\n",
      "trestbps    0\n",
      "chol        0\n",
      "fbs         0\n",
      "restecg     0\n",
      "thalach     0\n",
      "exang       0\n",
      "oldpeak     0\n",
      "slope       0\n",
      "ca          0\n",
      "thal        0\n",
      "target      0\n",
      "dtype: int64\n"
     ]
    },
    {
     "name": "stderr",
     "output_type": "stream",
     "text": [
      "C:\\Users\\eddie\\AppData\\Local\\Temp\\ipykernel_22728\\4096841489.py:2: FutureWarning: A value is trying to be set on a copy of a DataFrame or Series through chained assignment using an inplace method.\n",
      "The behavior will change in pandas 3.0. This inplace method will never work because the intermediate object on which we are setting values always behaves as a copy.\n",
      "\n",
      "For example, when doing 'df[col].method(value, inplace=True)', try using 'df.method({col: value}, inplace=True)' or df[col] = df[col].method(value) instead, to perform the operation inplace on the original object.\n",
      "\n",
      "\n",
      "  df['ca'].fillna(df['ca'].mode()[0], inplace = True)\n",
      "C:\\Users\\eddie\\AppData\\Local\\Temp\\ipykernel_22728\\4096841489.py:3: FutureWarning: A value is trying to be set on a copy of a DataFrame or Series through chained assignment using an inplace method.\n",
      "The behavior will change in pandas 3.0. This inplace method will never work because the intermediate object on which we are setting values always behaves as a copy.\n",
      "\n",
      "For example, when doing 'df[col].method(value, inplace=True)', try using 'df.method({col: value}, inplace=True)' or df[col] = df[col].method(value) instead, to perform the operation inplace on the original object.\n",
      "\n",
      "\n",
      "  df['thal'].fillna(df['thal'].mode()[0], inplace = True)\n"
     ]
    }
   ],
   "source": [
    "# Fill missing values for 'ca' and 'thal' with the mode (most frequent value)\n",
    "df['ca'].fillna(df['ca'].mode()[0], inplace = True)\n",
    "df['thal'].fillna(df['thal'].mode()[0], inplace = True)\n",
    "\n",
    "# Check for any remaining missing values\n",
    "print(df.isnull().sum())"
   ]
  },
  {
   "cell_type": "code",
   "execution_count": 17,
   "id": "133a1860",
   "metadata": {},
   "outputs": [
    {
     "name": "stdout",
     "output_type": "stream",
     "text": [
      "    chol cholesterol_level\n",
      "0  233.0        Border;ine\n",
      "1  286.0              High\n",
      "2  229.0        Border;ine\n",
      "3  250.0              High\n",
      "4  204.0        Border;ine\n"
     ]
    }
   ],
   "source": [
    "# Step 4: Create New Columns\n",
    "# Create a new column 'cholesterol_level' based on the 'chol' value\n",
    "\n",
    "# Initialize the new column with a default value (e.g., 'Normal')\n",
    "df['cholesterol_level'] = 'Normal'\n",
    "\n",
    "# Update the column for 'Borderline' cases\n",
    "df.loc[df['chol'] > 200 & (df['chol'] <= 240), 'cholesterol_level'] = 'Border;ine'\n",
    "\n",
    "# Update the column for 'High' cases\n",
    "df.loc[df['chol'] > 240, 'cholesterol_level'] = 'High'\n",
    "\n",
    "# Display the DataFrame to verify the new column\n",
    "print(df[['chol', 'cholesterol_level']].head())"
   ]
  },
  {
   "cell_type": "code",
   "execution_count": 21,
   "id": "ac519fd4",
   "metadata": {},
   "outputs": [
    {
     "data": {
      "text/plain": [
       "0           Senior\n",
       "1           Senior\n",
       "2           Senior\n",
       "3            Young\n",
       "4      Middle-aged\n",
       "          ...     \n",
       "298    Middle-aged\n",
       "299         Senior\n",
       "300    Middle-aged\n",
       "301    Middle-aged\n",
       "302          Young\n",
       "Name: age_group, Length: 303, dtype: object"
      ]
     },
     "execution_count": 21,
     "metadata": {},
     "output_type": "execute_result"
    }
   ],
   "source": [
    "# Another way to create new columns and assign new values\n",
    "# Create a new column 'age_group' to categorize patients into age groups\n",
    "\n",
    "def age_group(age):\n",
    "    if age < 40:\n",
    "        return 'Young'\n",
    "    elif 40 <= age < 60:\n",
    "        return 'Middle-aged'\n",
    "    else:\n",
    "        return 'Senior'\n",
    "\n",
    "# Apply the function to create the new column\n",
    "\n",
    "df['age_group'] = df['age'].apply(age_group)\n",
    "df['age_group']"
   ]
  },
  {
   "cell_type": "code",
   "execution_count": 26,
   "id": "d88de886",
   "metadata": {},
   "outputs": [
    {
     "name": "stdout",
     "output_type": "stream",
     "text": [
      "Average cholesterol levels by genders and age groups:    sex    age_group        chol\n",
      "0  0.0  Middle-aged  257.188679\n",
      "1  0.0       Senior  275.179487\n",
      "2  0.0        Young  205.400000\n",
      "3  1.0  Middle-aged  238.041667\n",
      "4  1.0       Senior  246.653846\n",
      "5  1.0        Young  225.400000\n"
     ]
    }
   ],
   "source": [
    "# Step 5: Analyze the Data\n",
    "# Calculate average cholesterol levels by gender and age group\n",
    "\n",
    "avg_chol_by_gender_age = df.groupby(['sex', 'age_group'])['chol'].mean().reset_index()\n",
    "print(f\"Average cholesterol levels by genders and age groups: {avg_chol_by_gender_age}\")\n"
   ]
  },
  {
   "cell_type": "code",
   "execution_count": 27,
   "id": "a556a26b",
   "metadata": {},
   "outputs": [
    {
     "name": "stdout",
     "output_type": "stream",
     "text": [
      "Number of patients with heart disease in each group:      age_group  target\n",
      "0  Middle-aged      35\n",
      "1       Senior      18\n",
      "2        Young       2\n"
     ]
    }
   ],
   "source": [
    "# Find the number of patients with heart disease (target = 1) in each age group\n",
    "\n",
    "heart_disease_by_age = df[df['target'] == 1].groupby('age_group')['target'].count().reset_index()\n",
    "print(f\"Number of patients with heart disease in each group: {heart_disease_by_age}\")"
   ]
  },
  {
   "cell_type": "code",
   "execution_count": 30,
   "id": "7d69054d",
   "metadata": {},
   "outputs": [],
   "source": [
    "# Step 6: Export the Cleaned Data\n",
    "# Write the cleaned and transformed data to a new CSV file\n",
    "\n",
    "df.to_csv('cleaned_heart_disease_data.csv', index = False)\n"
   ]
  },
  {
   "cell_type": "code",
   "execution_count": 31,
   "id": "43110aaf",
   "metadata": {},
   "outputs": [
    {
     "name": "stdout",
     "output_type": "stream",
     "text": [
      "Succesful completion!\n"
     ]
    }
   ],
   "source": [
    "# Print a message to indicate successful completion\n",
    "\n",
    "print(\"Succesful completion!\")"
   ]
  }
 ],
 "metadata": {
  "kernelspec": {
   "display_name": "Python [conda env:base] *",
   "language": "python",
   "name": "conda-base-py"
  },
  "language_info": {
   "codemirror_mode": {
    "name": "ipython",
    "version": 3
   },
   "file_extension": ".py",
   "mimetype": "text/x-python",
   "name": "python",
   "nbconvert_exporter": "python",
   "pygments_lexer": "ipython3",
   "version": "3.12.3"
  }
 },
 "nbformat": 4,
 "nbformat_minor": 5
}
